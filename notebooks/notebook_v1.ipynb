{
 "cells": [
  {
   "cell_type": "code",
   "execution_count": 535,
   "id": "49b3d881",
   "metadata": {},
   "outputs": [],
   "source": [
    "import pandas as pd\n",
    "import numpy as np\n",
    "\n",
    "context = pd.read_csv(\"../data/context_df.csv\")\n",
    "pq = pd.read_parquet(\"../data/test_task.parquet\")\n",
    "percent_columns = [\n",
    "\t\"inflation\", \"key_rate\", \"deposit_1\", \"deposit_3\", \"deposit_6\", \"deposit_12\",\n",
    "\t\"fa_delta\", \"usd_delta\", \"IMOEX_delta\", \"RGBI_delta\"\n",
    "    ]"
   ]
  },
  {
   "cell_type": "code",
   "execution_count": 536,
   "id": "e9a3e998",
   "metadata": {},
   "outputs": [
    {
     "data": {
      "text/plain": [
       "cus_class\n",
       "5.0      5492\n",
       "4.0      3585\n",
       "10.0     2667\n",
       "1.0      2666\n",
       "106.0    1758\n",
       "103.0    1168\n",
       "105.0     968\n",
       "102.0     543\n",
       "101.0     432\n",
       "8.0       348\n",
       "107.0     292\n",
       "109.0     219\n",
       "108.0     218\n",
       "6.0       157\n",
       "7.0       148\n",
       "104.0     120\n",
       "2.0        63\n",
       "100.0      44\n",
       "Name: count, dtype: int64"
      ]
     },
     "execution_count": 536,
     "metadata": {},
     "output_type": "execute_result"
    }
   ],
   "source": [
    "# Кол-во классов\n",
    "pq.cus_class.value_counts()"
   ]
  },
  {
   "cell_type": "code",
   "execution_count": 537,
   "id": "a8aa2186",
   "metadata": {},
   "outputs": [
    {
     "data": {
      "text/plain": [
       "(Timestamp('2009-04-17 00:00:00'), Timestamp('2024-05-14 00:00:00'))"
      ]
     },
     "execution_count": 537,
     "metadata": {},
     "output_type": "execute_result"
    }
   ],
   "source": [
    "# Интервалы дат\n",
    "pq.iloc[:, 0].min(), pq.iloc[:, 0].max()"
   ]
  },
  {
   "cell_type": "code",
   "execution_count": 538,
   "id": "4c17c725",
   "metadata": {},
   "outputs": [
    {
     "data": {
      "text/plain": [
       "context_data_from    0\n",
       "context_data_to      0\n",
       "quarter              0\n",
       "inflation            1\n",
       "key_rate             1\n",
       "deposit_1            0\n",
       "deposit_3            0\n",
       "deposit_6            0\n",
       "deposit_12           0\n",
       "fa_delta             1\n",
       "usd_delta            1\n",
       "IMOEX_delta          1\n",
       "RGBI_delta           1\n",
       "dtype: int64"
      ]
     },
     "execution_count": 538,
     "metadata": {},
     "output_type": "execute_result"
    }
   ],
   "source": [
    "# NaN'ы\n",
    "context.isna().sum()"
   ]
  },
  {
   "cell_type": "code",
   "execution_count": 539,
   "id": "e041c804",
   "metadata": {},
   "outputs": [],
   "source": [
    "from typing import List\n",
    "\n",
    "\n",
    "def preprocess_parquet(df: pd.DataFrame) -> pd.DataFrame:\n",
    "    df = df.copy()\n",
    "    df.columns = [\"date\", *df.columns[1:]]\n",
    "    df[\"date\"] = pd.to_datetime(df[\"date\"])\n",
    "    return df\n",
    "\n",
    "\n",
    "def preprocess_context(df: pd.DataFrame, columns: List[str] = percent_columns) -> pd.DataFrame:\n",
    "    df = df.copy()\n",
    "    df[\"context_data_from\"] = pd.to_datetime(df[\"context_data_from\"])\n",
    "    df[\"context_data_to\"] = pd.to_datetime(df[\"context_data_to\"])\n",
    "    df.dropna(inplace=True)\n",
    "\n",
    "    df[columns] = df[columns].apply(lambda x: x.str.rstrip('%').astype(float))\n",
    "    \n",
    "    return df"
   ]
  },
  {
   "cell_type": "code",
   "execution_count": 540,
   "id": "39031e59",
   "metadata": {},
   "outputs": [],
   "source": [
    "def merge_frames(pq: pd.DataFrame, context: pd.DataFrame) -> pd.DataFrame:\n",
    "    pq = preprocess_parquet(pq)\n",
    "    context = preprocess_context(context)\n",
    "\n",
    "    intervals = pd.IntervalIndex.from_arrays(\n",
    "        context[\"context_data_from\"],\n",
    "        context[\"context_data_to\"],\n",
    "        closed=\"both\"\n",
    "    )\n",
    "\n",
    "    pq = pq[pq[\"date\"] >= context[\"context_data_from\"].min()].copy()\n",
    "    pq[\"quarter_idx\"] = intervals.get_indexer(pq[\"date\"])\n",
    "    pq = pq[pq[\"quarter_idx\"] != -1]\n",
    "\n",
    "    context = context.reset_index(drop=True)\n",
    "    context[\"quarter_idx\"] = context.index\n",
    "\n",
    "    merged = pq.merge(context, on=\"quarter_idx\", how=\"left\")\n",
    "    return merged"
   ]
  },
  {
   "cell_type": "code",
   "execution_count": 541,
   "id": "6eddd8b1",
   "metadata": {},
   "outputs": [],
   "source": [
    "df = merge_frames(pq, context)"
   ]
  },
  {
   "cell_type": "code",
   "execution_count": 542,
   "id": "a7338a13",
   "metadata": {},
   "outputs": [],
   "source": [
    "from sklearn.preprocessing import LabelEncoder\n",
    "\n",
    "df[\"cus_class\"] = df[\"cus_class\"].astype(int)\n",
    "label_encoder = LabelEncoder()\n",
    "df[\"class_idx\"] = label_encoder.fit_transform(df[\"cus_class\"])\n"
   ]
  },
  {
   "cell_type": "code",
   "execution_count": 543,
   "id": "039f4629",
   "metadata": {},
   "outputs": [],
   "source": [
    "X = df[percent_columns].values\n",
    "y = df[\"class_idx\"].values\n"
   ]
  },
  {
   "cell_type": "code",
   "execution_count": 544,
   "id": "f68b930a",
   "metadata": {},
   "outputs": [],
   "source": [
    "from sklearn.preprocessing import StandardScaler\n",
    "\n",
    "\n",
    "scaler = StandardScaler()\n",
    "X_scaled = scaler.fit_transform(X)\n"
   ]
  },
  {
   "cell_type": "code",
   "execution_count": 545,
   "id": "b97df592",
   "metadata": {},
   "outputs": [],
   "source": [
    "from sklearn.model_selection import train_test_split\n",
    "\n",
    "\n",
    "X_train, X_temp, y_train, y_temp = train_test_split(X_scaled, y, test_size=0.3, random_state=42, stratify=y)\n",
    "X_val, X_test, y_val, y_test = train_test_split(X_temp, y_temp, test_size=0.5, random_state=42, stratify=y_temp)\n"
   ]
  },
  {
   "cell_type": "code",
   "execution_count": 546,
   "id": "568de656",
   "metadata": {},
   "outputs": [],
   "source": [
    "import torch\n",
    "import torch.nn as nn\n",
    "from torch.utils.data import DataLoader, TensorDataset\n",
    "\n",
    "\n",
    "X_train_tensor = torch.tensor(X_train, dtype=torch.float32)\n",
    "y_train_tensor = torch.tensor(y_train, dtype=torch.long)\n",
    "X_val_tensor = torch.tensor(X_val, dtype=torch.float32)\n",
    "y_val_tensor = torch.tensor(y_val, dtype=torch.long)\n",
    "\n",
    "train_loader = DataLoader(TensorDataset(X_train_tensor, y_train_tensor), batch_size=128, shuffle=True)\n",
    "val_loader = DataLoader(TensorDataset(X_val_tensor, y_val_tensor), batch_size=128)\n",
    "\n",
    "class MLPClassifier(nn.Module):\n",
    "    def __init__(self, input_dim, hidden_dim, output_dim):\n",
    "        super().__init__()\n",
    "        self.model = nn.Sequential(\n",
    "            nn.Linear(input_dim, hidden_dim),\n",
    "            nn.ReLU(),\n",
    "\n",
    "            nn.Linear(hidden_dim, output_dim)\n",
    "        )\n",
    "\n",
    "    def forward(self, x):\n",
    "        return self.model(x)\n",
    "\n",
    "model = MLPClassifier(input_dim=X_train.shape[1], hidden_dim=64, output_dim=len(label_encoder.classes_))\n",
    "criterion = nn.CrossEntropyLoss()\n",
    "optimizer = torch.optim.Adam(model.parameters(), lr=1e-3)\n"
   ]
  },
  {
   "cell_type": "code",
   "execution_count": 547,
   "id": "5d942f54",
   "metadata": {},
   "outputs": [
    {
     "name": "stdout",
     "output_type": "stream",
     "text": [
      "Starting Epoch 1\n",
      "Epoch 1: loss=2.2762, F1_macro=0.0796, F1_micro=0.3743\n",
      "Starting Epoch 2\n",
      "Epoch 2: loss=1.8800, F1_macro=0.0837, F1_micro=0.3884\n",
      "Starting Epoch 3\n",
      "Epoch 3: loss=1.8025, F1_macro=0.1159, F1_micro=0.4044\n",
      "Starting Epoch 4\n",
      "Epoch 4: loss=1.7662, F1_macro=0.1150, F1_micro=0.4037\n",
      "Starting Epoch 5\n",
      "Epoch 5: loss=1.7437, F1_macro=0.1233, F1_micro=0.4005\n",
      "Starting Epoch 6\n",
      "Epoch 6: loss=1.7294, F1_macro=0.1172, F1_micro=0.4044\n",
      "Starting Epoch 7\n",
      "Epoch 7: loss=1.7189, F1_macro=0.1172, F1_micro=0.4044\n",
      "Starting Epoch 8\n",
      "Epoch 8: loss=1.7106, F1_macro=0.1212, F1_micro=0.4106\n",
      "Starting Epoch 9\n",
      "Epoch 9: loss=1.7051, F1_macro=0.1209, F1_micro=0.4057\n",
      "Starting Epoch 10\n",
      "Epoch 10: loss=1.7005, F1_macro=0.1232, F1_micro=0.4076\n"
     ]
    }
   ],
   "source": [
    "from sklearn.metrics import f1_score\n",
    "import mlflow\n",
    "import mlflow.pytorch\n",
    "from mlflow.models import infer_signature\n",
    "\n",
    "device = torch.device(\"cuda\" if torch.cuda.is_available() else \"cpu\")\n",
    "model.to(device)\n",
    "\n",
    "\n",
    "mlflow.set_experiment(\"classification_experiment\")\n",
    "with mlflow.start_run():\n",
    "    for epoch in range(1, 11):\n",
    "        print(f\"Starting Epoch {epoch}\")  # Уникальный вывод для каждой эпохи\n",
    "        model.train()\n",
    "        total_loss = 0\n",
    "\n",
    "        for X_batch, y_batch in train_loader:\n",
    "            X_batch, y_batch = X_batch.to(device), y_batch.to(device)\n",
    "            optimizer.zero_grad()\n",
    "            outputs = model(X_batch)\n",
    "            loss = criterion(outputs, y_batch)\n",
    "            loss.backward()\n",
    "            optimizer.step()\n",
    "            total_loss += loss.item()\n",
    "\n",
    "        avg_train_loss = total_loss / len(train_loader)\n",
    "\n",
    "        # Валидация\n",
    "        model.eval()\n",
    "        y_true, y_pred = [], []\n",
    "        with torch.no_grad():\n",
    "            for X_batch, y_batch in val_loader:\n",
    "                X_batch = X_batch.to(device)\n",
    "                outputs = model(X_batch)\n",
    "                preds = outputs.argmax(dim=1).cpu().numpy()\n",
    "                y_pred.extend(preds)\n",
    "                y_true.extend(y_batch.numpy())\n",
    "\n",
    "        f1_macro = f1_score(y_true, y_pred, average=\"macro\")\n",
    "        f1_micro = f1_score(y_true, y_pred, average=\"micro\")\n",
    "\n",
    "        print(f\"Epoch {epoch}: loss={avg_train_loss:.4f}, F1_macro={f1_macro:.4f}, F1_micro={f1_micro:.4f}\")\n",
    "\n",
    "        # Логирование\n",
    "        mlflow.log_metric(\"train_loss\", avg_train_loss, step=epoch)\n",
    "        mlflow.log_metric(\"f1_macro\", f1_macro, step=epoch)\n",
    "        mlflow.log_metric(\"f1_micro\", f1_micro, step=epoch)\n",
    "\n",
    "    input_example = X_train[:5].astype(np.float32)\n",
    "    outputs = model(torch.tensor(input_example, dtype=torch.float32).to(device))\n",
    "    outputs = outputs.cpu().detach().numpy()\n",
    "    \n",
    "    # Сохраняем модель\n",
    "    signature = infer_signature(input_example, outputs)\n",
    "    mlflow.pytorch.log_model(\n",
    "        model,\n",
    "        name=\"mlp_model\",\n",
    "        signature=signature,\n",
    "        input_example=input_example\n",
    "    )\n",
    "    mlflow.log_params({\n",
    "        \"model\": \"MLP\",\n",
    "        \"hidden_dim\": 64,\n",
    "        \"lr\": 1e-3,\n",
    "        \"batch_size\": 128,\n",
    "        \"epochs\": 10\n",
    "    })"
   ]
  },
  {
   "cell_type": "code",
   "execution_count": null,
   "id": "12b7a034",
   "metadata": {},
   "outputs": [],
   "source": []
  }
 ],
 "metadata": {
  "kernelspec": {
   "display_name": "venv",
   "language": "python",
   "name": "python3"
  },
  "language_info": {
   "codemirror_mode": {
    "name": "ipython",
    "version": 3
   },
   "file_extension": ".py",
   "mimetype": "text/x-python",
   "name": "python",
   "nbconvert_exporter": "python",
   "pygments_lexer": "ipython3",
   "version": "3.12.11"
  }
 },
 "nbformat": 4,
 "nbformat_minor": 5
}
