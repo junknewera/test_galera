{
 "cells": [
  {
   "cell_type": "code",
   "execution_count": 2,
   "id": "49b3d881",
   "metadata": {},
   "outputs": [],
   "source": [
    "import pandas as pd\n",
    "import numpy as np\n",
    "\n",
    "context = pd.read_csv(\"../data/context_df.csv\")\n",
    "pq = pd.read_parquet(\"../data/test_task.parquet\")\n",
    "percent_columns = [\n",
    "\t\"inflation\", \"key_rate\", \"deposit_1\", \"deposit_3\", \"deposit_6\", \"deposit_12\",\n",
    "\t\"fa_delta\", \"usd_delta\", \"IMOEX_delta\", \"RGBI_delta\"\n",
    "    ]"
   ]
  },
  {
   "cell_type": "code",
   "execution_count": 3,
   "id": "e9a3e998",
   "metadata": {},
   "outputs": [
    {
     "data": {
      "text/plain": [
       "cus_class\n",
       "5.0      5492\n",
       "4.0      3585\n",
       "10.0     2667\n",
       "1.0      2666\n",
       "106.0    1758\n",
       "103.0    1168\n",
       "105.0     968\n",
       "102.0     543\n",
       "101.0     432\n",
       "8.0       348\n",
       "107.0     292\n",
       "109.0     219\n",
       "108.0     218\n",
       "6.0       157\n",
       "7.0       148\n",
       "104.0     120\n",
       "2.0        63\n",
       "100.0      44\n",
       "Name: count, dtype: int64"
      ]
     },
     "execution_count": 3,
     "metadata": {},
     "output_type": "execute_result"
    }
   ],
   "source": [
    "# Кол-во классов\n",
    "pq.cus_class.value_counts()"
   ]
  },
  {
   "cell_type": "code",
   "execution_count": 4,
   "id": "a8aa2186",
   "metadata": {},
   "outputs": [
    {
     "data": {
      "text/plain": [
       "(Timestamp('2009-04-17 00:00:00'), Timestamp('2024-05-14 00:00:00'))"
      ]
     },
     "execution_count": 4,
     "metadata": {},
     "output_type": "execute_result"
    }
   ],
   "source": [
    "# Интервалы дат\n",
    "pq.iloc[:, 0].min(), pq.iloc[:, 0].max()"
   ]
  },
  {
   "cell_type": "code",
   "execution_count": 5,
   "id": "4c17c725",
   "metadata": {},
   "outputs": [
    {
     "data": {
      "text/plain": [
       "context_data_from    0\n",
       "context_data_to      0\n",
       "quarter              0\n",
       "inflation            1\n",
       "key_rate             1\n",
       "deposit_1            0\n",
       "deposit_3            0\n",
       "deposit_6            0\n",
       "deposit_12           0\n",
       "fa_delta             1\n",
       "usd_delta            1\n",
       "IMOEX_delta          1\n",
       "RGBI_delta           1\n",
       "dtype: int64"
      ]
     },
     "execution_count": 5,
     "metadata": {},
     "output_type": "execute_result"
    }
   ],
   "source": [
    "# NaN'ы\n",
    "context.isna().sum()"
   ]
  },
  {
   "cell_type": "code",
   "execution_count": 6,
   "id": "e041c804",
   "metadata": {},
   "outputs": [],
   "source": [
    "from typing import List\n",
    "\n",
    "\n",
    "def preprocess_parquet(df: pd.DataFrame) -> pd.DataFrame:\n",
    "    df = df.copy()\n",
    "    df.columns = [\"date\", *df.columns[1:]]\n",
    "    df[\"date\"] = pd.to_datetime(df[\"date\"])\n",
    "    return df\n",
    "\n",
    "\n",
    "def preprocess_context(df: pd.DataFrame, columns: List[str] = percent_columns) -> pd.DataFrame:\n",
    "    df = df.copy()\n",
    "    df[\"context_data_from\"] = pd.to_datetime(df[\"context_data_from\"])\n",
    "    df[\"context_data_to\"] = pd.to_datetime(df[\"context_data_to\"])\n",
    "    df.dropna(inplace=True)\n",
    "\n",
    "    df[columns] = df[columns].apply(lambda x: x.str.rstrip('%').astype(float))\n",
    "    \n",
    "    return df"
   ]
  },
  {
   "cell_type": "code",
   "execution_count": 7,
   "id": "39031e59",
   "metadata": {},
   "outputs": [],
   "source": [
    "def merge_frames(pq: pd.DataFrame, context: pd.DataFrame) -> pd.DataFrame:\n",
    "    pq = preprocess_parquet(pq)\n",
    "    context = preprocess_context(context)\n",
    "\n",
    "    intervals = pd.IntervalIndex.from_arrays(\n",
    "        context[\"context_data_from\"],\n",
    "        context[\"context_data_to\"],\n",
    "        closed=\"both\"\n",
    "    )\n",
    "\n",
    "    pq = pq[pq[\"date\"] >= context[\"context_data_from\"].min()].copy()\n",
    "    pq[\"quarter_idx\"] = intervals.get_indexer(pq[\"date\"])\n",
    "    pq = pq[pq[\"quarter_idx\"] != -1]\n",
    "\n",
    "    context = context.reset_index(drop=True)\n",
    "    context[\"quarter_idx\"] = context.index\n",
    "\n",
    "    merged = pq.merge(context, on=\"quarter_idx\", how=\"left\")\n",
    "    return merged\n",
    "\n",
    "\n",
    "df = merge_frames(pq, context)"
   ]
  },
  {
   "cell_type": "code",
   "execution_count": 8,
   "id": "a7338a13",
   "metadata": {},
   "outputs": [],
   "source": [
    "from sklearn.preprocessing import LabelEncoder\n",
    "from sklearn.preprocessing import StandardScaler\n",
    "\n",
    "\n",
    "df[\"cus_class\"] = df[\"cus_class\"].astype(int)\n",
    "label_encoder = LabelEncoder()\n",
    "df[\"class_idx\"] = label_encoder.fit_transform(df[\"cus_class\"])\n",
    "\n",
    "X = df[percent_columns].values\n",
    "y = df[\"class_idx\"].values\n",
    "\n",
    "scaler = StandardScaler()\n",
    "X_scaled = scaler.fit_transform(X)"
   ]
  },
  {
   "cell_type": "code",
   "execution_count": 9,
   "id": "b97df592",
   "metadata": {},
   "outputs": [],
   "source": [
    "from sklearn.model_selection import train_test_split\n",
    "\n",
    "\n",
    "X_train, X_temp, y_train, y_temp = train_test_split(X_scaled, y, test_size=0.3, random_state=42, stratify=y)\n",
    "X_val, X_test, y_val, y_test = train_test_split(X_temp, y_temp, test_size=0.5, random_state=42, stratify=y_temp)\n"
   ]
  },
  {
   "cell_type": "code",
   "execution_count": 10,
   "id": "568de656",
   "metadata": {},
   "outputs": [],
   "source": [
    "import torch\n",
    "import torch.nn as nn\n",
    "from torch.utils.data import DataLoader, TensorDataset\n",
    "\n",
    "\n",
    "X_train_tensor = torch.tensor(X_train, dtype=torch.float32)\n",
    "y_train_tensor = torch.tensor(y_train, dtype=torch.long)\n",
    "X_val_tensor = torch.tensor(X_val, dtype=torch.float32)\n",
    "y_val_tensor = torch.tensor(y_val, dtype=torch.long)\n",
    "\n",
    "train_loader = DataLoader(TensorDataset(X_train_tensor, y_train_tensor), batch_size=128, shuffle=True)\n",
    "val_loader = DataLoader(TensorDataset(X_val_tensor, y_val_tensor), batch_size=128)\n",
    "\n",
    "class MLPClassifier(nn.Module):\n",
    "    def __init__(self, input_dim, hidden_dim, output_dim):\n",
    "        super().__init__()\n",
    "        self.model = nn.Sequential(\n",
    "            nn.Linear(input_dim, hidden_dim),\n",
    "            nn.ReLU(),\n",
    "\n",
    "            nn.Linear(hidden_dim, output_dim)\n",
    "        )\n",
    "\n",
    "    def forward(self, x):\n",
    "        return self.model(x)\n",
    "\n",
    "model = MLPClassifier(input_dim=X_train.shape[1], hidden_dim=64, output_dim=len(label_encoder.classes_))\n",
    "criterion = nn.CrossEntropyLoss()\n",
    "optimizer = torch.optim.Adam(model.parameters(), lr=1e-3)\n"
   ]
  },
  {
   "cell_type": "code",
   "execution_count": 1,
   "id": "5d942f54",
   "metadata": {},
   "outputs": [
    {
     "ename": "NameError",
     "evalue": "name 'torch' is not defined",
     "output_type": "error",
     "traceback": [
      "\u001b[31m---------------------------------------------------------------------------\u001b[39m",
      "\u001b[31mNameError\u001b[39m                                 Traceback (most recent call last)",
      "\u001b[36mCell\u001b[39m\u001b[36m \u001b[39m\u001b[32mIn[1]\u001b[39m\u001b[32m, line 6\u001b[39m\n\u001b[32m      3\u001b[39m \u001b[38;5;28;01mimport\u001b[39;00m\u001b[38;5;250m \u001b[39m\u001b[34;01mmlflow\u001b[39;00m\u001b[34;01m.\u001b[39;00m\u001b[34;01mpytorch\u001b[39;00m\n\u001b[32m      4\u001b[39m \u001b[38;5;28;01mfrom\u001b[39;00m\u001b[38;5;250m \u001b[39m\u001b[34;01mmlflow\u001b[39;00m\u001b[34;01m.\u001b[39;00m\u001b[34;01mmodels\u001b[39;00m\u001b[38;5;250m \u001b[39m\u001b[38;5;28;01mimport\u001b[39;00m infer_signature\n\u001b[32m----> \u001b[39m\u001b[32m6\u001b[39m device = \u001b[43mtorch\u001b[49m.device(\u001b[33m\"\u001b[39m\u001b[33mcuda\u001b[39m\u001b[33m\"\u001b[39m \u001b[38;5;28;01mif\u001b[39;00m torch.cuda.is_available() \u001b[38;5;28;01melse\u001b[39;00m \u001b[33m\"\u001b[39m\u001b[33mcpu\u001b[39m\u001b[33m\"\u001b[39m)\n\u001b[32m      7\u001b[39m model.to(device)\n\u001b[32m     10\u001b[39m mlflow.set_experiment(\u001b[33m\"\u001b[39m\u001b[33mclassification_experiment\u001b[39m\u001b[33m\"\u001b[39m)\n",
      "\u001b[31mNameError\u001b[39m: name 'torch' is not defined"
     ]
    }
   ],
   "source": [
    "from sklearn.metrics import f1_score\n",
    "import mlflow\n",
    "import mlflow.pytorch\n",
    "from mlflow.models import infer_signature\n",
    "\n",
    "device = torch.device(\"cuda\" if torch.cuda.is_available() else \"cpu\")\n",
    "model.to(device)\n",
    "\n",
    "\n",
    "mlflow.set_experiment(\"classification_experiment\")\n",
    "with mlflow.start_run():\n",
    "    for epoch in range(1, 11):\n",
    "        print(f\"Starting Epoch {epoch}\")  # Уникальный вывод для каждой эпохи\n",
    "        model.train()\n",
    "        total_loss = 0\n",
    "\n",
    "        for X_batch, y_batch in train_loader:\n",
    "            X_batch, y_batch = X_batch.to(device), y_batch.to(device)\n",
    "            optimizer.zero_grad()\n",
    "            outputs = model(X_batch)\n",
    "            loss = criterion(outputs, y_batch)\n",
    "            loss.backward()\n",
    "            optimizer.step()\n",
    "            total_loss += loss.item()\n",
    "\n",
    "        avg_train_loss = total_loss / len(train_loader)\n",
    "\n",
    "        # Валидация\n",
    "        model.eval()\n",
    "        y_true, y_pred = [], []\n",
    "        with torch.no_grad():\n",
    "            for X_batch, y_batch in val_loader:\n",
    "                X_batch = X_batch.to(device)\n",
    "                outputs = model(X_batch)\n",
    "                preds = outputs.argmax(dim=1).cpu().numpy()\n",
    "                y_pred.extend(preds)\n",
    "                y_true.extend(y_batch.numpy())\n",
    "\n",
    "        f1_macro = f1_score(y_true, y_pred, average=\"macro\")\n",
    "        f1_micro = f1_score(y_true, y_pred, average=\"micro\")\n",
    "\n",
    "        print(f\"Epoch {epoch}: loss={avg_train_loss:.4f}, F1_macro={f1_macro:.4f}, F1_micro={f1_micro:.4f}\")\n",
    "\n",
    "        # Логирование\n",
    "        mlflow.log_metric(\"train_loss\", avg_train_loss, step=epoch)\n",
    "        mlflow.log_metric(\"f1_macro\", f1_macro, step=epoch)\n",
    "        mlflow.log_metric(\"f1_micro\", f1_micro, step=epoch)\n",
    "\n",
    "    input_example = X_train[:5].astype(np.float32)\n",
    "    outputs = model(torch.tensor(input_example, dtype=torch.float32).to(device))\n",
    "    outputs = outputs.cpu().detach().numpy()\n",
    "    \n",
    "    # Сохраняем модель\n",
    "    signature = infer_signature(input_example, outputs)\n",
    "    mlflow.pytorch.log_model(\n",
    "        model,\n",
    "        name=\"mlp_model\",\n",
    "        signature=signature,\n",
    "        input_example=input_example\n",
    "    )\n",
    "    mlflow.log_params({\n",
    "        \"model\": \"MLP\",\n",
    "        \"hidden_dim\": 64,\n",
    "        \"lr\": 1e-3,\n",
    "        \"batch_size\": 128,\n",
    "        \"epochs\": 10\n",
    "    })"
   ]
  },
  {
   "cell_type": "code",
   "execution_count": 16,
   "id": "12b7a034",
   "metadata": {},
   "outputs": [
    {
     "name": "stdout",
     "output_type": "stream",
     "text": [
      "Test F1 macro: 0.1451\n",
      "Test F1 micro: 0.429\n",
      "              precision    recall  f1-score   support\n",
      "\n",
      "           1       0.24      0.46      0.32       381\n",
      "           2       0.00      0.00      0.00         9\n",
      "           4       0.45      0.17      0.25       535\n",
      "           5       0.46      0.76      0.57       822\n",
      "           6       0.00      0.00      0.00        23\n",
      "           7       0.00      0.00      0.00        22\n",
      "           8       0.00      0.00      0.00        52\n",
      "          10       0.65      0.78      0.71       400\n",
      "         100       0.00      0.00      0.00         6\n",
      "         101       0.00      0.00      0.00        61\n",
      "         102       0.00      0.00      0.00        79\n",
      "         103       0.35      0.31      0.33       165\n",
      "         104       0.00      0.00      0.00        17\n",
      "         105       0.39      0.50      0.44       129\n",
      "         106       0.00      0.00      0.00       259\n",
      "         107       0.00      0.00      0.00        44\n",
      "         108       0.00      0.00      0.00        32\n",
      "         109       0.00      0.00      0.00        29\n",
      "\n",
      "    accuracy                           0.43      3065\n",
      "   macro avg       0.14      0.17      0.15      3065\n",
      "weighted avg       0.35      0.43      0.36      3065\n",
      "\n"
     ]
    }
   ],
   "source": [
    "from sklearn.metrics import classification_report, f1_score\n",
    "\n",
    "\n",
    "X_test_tensor = torch.tensor(X_test, dtype=torch.float32).to(device)\n",
    "y_test_tensor = torch.tensor(y_test, dtype=torch.long)\n",
    "\n",
    "# Оценка модели на тесте\n",
    "model.eval()\n",
    "with torch.no_grad():\n",
    "    outputs = model(X_test_tensor)\n",
    "    y_pred_test = outputs.argmax(dim=1).cpu().numpy()\n",
    "\n",
    "# Метрики\n",
    "f1_macro_test = f1_score(y_test, y_pred_test, average=\"macro\")\n",
    "f1_micro_test = f1_score(y_test, y_pred_test, average=\"micro\")\n",
    "\n",
    "print(\"Test F1 macro:\", round(f1_macro_test, 4))\n",
    "print(\"Test F1 micro:\", round(f1_micro_test, 4))\n",
    "print(classification_report(y_test, y_pred_test, target_names=label_encoder.classes_.astype(str), zero_division=0))\n"
   ]
  },
  {
   "cell_type": "code",
   "execution_count": null,
   "id": "6906f26d",
   "metadata": {},
   "outputs": [],
   "source": []
  }
 ],
 "metadata": {
  "kernelspec": {
   "display_name": "venv",
   "language": "python",
   "name": "python3"
  },
  "language_info": {
   "codemirror_mode": {
    "name": "ipython",
    "version": 3
   },
   "file_extension": ".py",
   "mimetype": "text/x-python",
   "name": "python",
   "nbconvert_exporter": "python",
   "pygments_lexer": "ipython3",
   "version": "3.12.11"
  }
 },
 "nbformat": 4,
 "nbformat_minor": 5
}
